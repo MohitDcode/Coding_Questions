{
 "cells": [
  {
   "cell_type": "markdown",
   "id": "d31565ff",
   "metadata": {},
   "source": [
    "# NUMBERS\n",
    "   -----------------"
   ]
  },
  {
   "cell_type": "markdown",
   "id": "e675d67f",
   "metadata": {},
   "source": [
    "## Q.1. Python program to print fibonacci series using recursive method"
   ]
  },
  {
   "cell_type": "code",
   "execution_count": 2,
   "id": "df84d1d6",
   "metadata": {},
   "outputs": [
    {
     "name": "stdout",
     "output_type": "stream",
     "text": [
      "Enter number: 6\n",
      "fibonacci series is:\n",
      "0\n",
      "1\n",
      "1\n",
      "2\n",
      "3\n",
      "5\n"
     ]
    }
   ],
   "source": [
    "n = int(input(\"Enter number: \"))\n",
    "first, second = 0, 1\n",
    "\n",
    "def fibonacci(num):\n",
    "  if num == 0:\n",
    "    return 0\n",
    "  elif num == 1:\n",
    "    return 1\n",
    "  else:\n",
    "    return fibonacci(num-1) + fibonacci(num-2)\n",
    "\n",
    "print(\"fibonacci series is:\")\n",
    "for i in range(0,n):\n",
    "  print(fibonacci(i))"
   ]
  },
  {
   "cell_type": "markdown",
   "id": "93c4a873",
   "metadata": {},
   "source": [
    "## Q.2. How can you replace string space with a given character in Python?"
   ]
  },
  {
   "cell_type": "code",
   "execution_count": 3,
   "id": "6bd38980",
   "metadata": {},
   "outputs": [
    {
     "data": {
      "text/plain": [
       "'DataCampBlackFridaySale'"
      ]
     },
     "execution_count": 3,
     "metadata": {},
     "output_type": "execute_result"
    }
   ],
   "source": [
    "def str_replace(text,ch):\n",
    "    result = ''\n",
    "    for i in text: \n",
    "            if i == ' ': \n",
    "                i = ch  \n",
    "            result += i \n",
    "    return result\n",
    "\n",
    "text = \"D t C mpBl ckFrid yS le\"\n",
    "ch = \"a\"\n",
    "\n",
    "str_replace(text,ch)"
   ]
  },
  {
   "cell_type": "markdown",
   "id": "44fa5791",
   "metadata": {},
   "source": [
    "## Q.3. Given a positive integer num, write a function that returns True if num is a perfect square else False."
   ]
  },
  {
   "cell_type": "code",
   "execution_count": 4,
   "id": "e43a6f11",
   "metadata": {},
   "outputs": [
    {
     "data": {
      "text/plain": [
       "True"
      ]
     },
     "execution_count": 4,
     "metadata": {},
     "output_type": "execute_result"
    }
   ],
   "source": [
    "def valid_square(num):\n",
    "    square = int(num**0.5)\n",
    "    check = square**2==num\n",
    "    return check\n",
    "\n",
    "valid_square(36)"
   ]
  },
  {
   "cell_type": "markdown",
   "id": "785eb5f8",
   "metadata": {},
   "source": [
    "## Q.4. String segmentation\n",
    "\n",
    "### You are provided with a large string and a dictionary of the words. You have to find if the input string can be segmented into words using the dictionary or not.  "
   ]
  },
  {
   "cell_type": "code",
   "execution_count": 6,
   "id": "358416c8",
   "metadata": {},
   "outputs": [
    {
     "name": "stdout",
     "output_type": "stream",
     "text": [
      "True\n"
     ]
    }
   ],
   "source": [
    "def can_segment_str(s, dictionary):\n",
    "    for i in range(1, len(s) + 1):\n",
    "        first_str = s[0:i]\n",
    "        if first_str in dictionary:\n",
    "            second_str = s[i:]\n",
    "            if (\n",
    "                not second_str\n",
    "                or second_str in dictionary\n",
    "                or can_segment_str(second_str, dictionary)\n",
    "            ):\n",
    "                return True\n",
    "    return False\n",
    "\n",
    "\n",
    "s = \"datacamp\"\n",
    "dictionary = [\"data\", \"camp\", \"cam\", \"lack\"]\n",
    "print(can_segment_str(s, dictionary))"
   ]
  },
  {
   "cell_type": "markdown",
   "id": "56bf9802",
   "metadata": {},
   "source": [
    "## Q.5. Find the missing number in the array\n",
    "\n",
    "### You have been provided with the list of positive integers from 1 to n. All the numbers from 1 to n are present except x, and you must find x. "
   ]
  },
  {
   "cell_type": "code",
   "execution_count": 7,
   "id": "71c7a226",
   "metadata": {},
   "outputs": [
    {
     "name": "stdout",
     "output_type": "stream",
     "text": [
      "2\n"
     ]
    }
   ],
   "source": [
    "def find_missing(input_list):\n",
    "\n",
    "  sum_of_elements = sum(input_list)\n",
    " \n",
    "  # There is exactly 1 number missing\n",
    "  n = len(input_list) + 1\n",
    "  actual_sum = (n * ( n + 1 ) ) / 2\n",
    " \n",
    "  return int(actual_sum - sum_of_elements)\n",
    "\n",
    "list_1 = [1,5,6,3,4]\n",
    "print(find_missing(list_1))"
   ]
  },
  {
   "cell_type": "markdown",
   "id": "3128f049",
   "metadata": {},
   "source": [
    "## Q.6. Python program for palindrome number using recursive method"
   ]
  },
  {
   "cell_type": "code",
   "execution_count": 8,
   "id": "a7736906",
   "metadata": {},
   "outputs": [
    {
     "name": "stdout",
     "output_type": "stream",
     "text": [
      "Enter numer1331\n",
      "Given number is Palindrome\n"
     ]
    }
   ],
   "source": [
    "n = int(input(\"Enter numer\"))\n",
    "def reverse(num):\n",
    "    if num < 10:\n",
    "        return num\n",
    "    else:\n",
    "        return int(str(num%10) + str(reverse(num//10)))\n",
    "\n",
    "def isPalindrome(num):\n",
    "    if num == reverse(num):\n",
    "        return 1\n",
    "    return 0\n",
    "\n",
    "if isPalindrome(n) == 1:\n",
    "    print(\"Given number is Palindrome\")\n",
    "else:\n",
    "    print(\"Given number is not Palindrome\")"
   ]
  },
  {
   "cell_type": "markdown",
   "id": "6c0aab7c",
   "metadata": {},
   "source": [
    "## Q.7. Check if given number is Check Armstrong\n",
    "### eg: 153, is an Armstrong number because it has 3 digits, and 1^3 + 5^3 + 3^3 = 1 + 125 + 27 = 153"
   ]
  },
  {
   "cell_type": "code",
   "execution_count": 10,
   "id": "d6a15c5e",
   "metadata": {},
   "outputs": [
    {
     "name": "stdout",
     "output_type": "stream",
     "text": [
      "Enter number: 153\n",
      "Armstrong\n"
     ]
    }
   ],
   "source": [
    "num = int(input(\"Enter number: \"))\n",
    "sum = 0\n",
    "temp = num\n",
    "count = len(str(num))\n",
    "\n",
    "while temp > 0:\n",
    "    digit = temp % 10\n",
    "    sum += digit ** count\n",
    "    temp //= 10\n",
    "\n",
    "if num == sum:\n",
    "    print(\"Armstrong\")\n",
    "else:\n",
    "    print(\"Garbage\")"
   ]
  },
  {
   "cell_type": "markdown",
   "id": "2294a85c",
   "metadata": {},
   "source": [
    "## Q.8. Python Program to find factorial of a number using recursion  "
   ]
  },
  {
   "cell_type": "code",
   "execution_count": 14,
   "id": "20d3bb88",
   "metadata": {},
   "outputs": [
    {
     "name": "stdout",
     "output_type": "stream",
     "text": [
      "Enter number: 4\n",
      "Factoial of 4 is 24\n"
     ]
    }
   ],
   "source": [
    "def fact(n):\n",
    "    if n == 1:\n",
    "        return n\n",
    "    else:\n",
    "        return n*fact(n-1)\n",
    "\n",
    "num = int(input(\"Enter number: \"))\n",
    "if num < 0:\n",
    "    print(\"Can't calulate factorial\")\n",
    "elif num == 0:\n",
    "    print(\"Factorial of 0 is 1\")\n",
    "else:\n",
    "    print(\"Factoial of\",num,\"is\", fact(num))"
   ]
  },
  {
   "cell_type": "markdown",
   "id": "df5a2f5f",
   "metadata": {},
   "source": [
    "# STRING\n",
    "---------------"
   ]
  },
  {
   "cell_type": "markdown",
   "id": "06a5ae79",
   "metadata": {},
   "source": [
    "## Q.1. Remove character from string using replace() method"
   ]
  },
  {
   "cell_type": "code",
   "execution_count": 15,
   "id": "df275467",
   "metadata": {},
   "outputs": [
    {
     "name": "stdout",
     "output_type": "stream",
     "text": [
      "please give a String : Quescol\n",
      "please give a Character to remove : e\n",
      "Quscol\n"
     ]
    }
   ],
   "source": [
    "def remove_char(s1,s2):\n",
    "    print(s1.replace(s2, ''))\n",
    "s1 = input(\"please give a String : \")\n",
    "s2 = input(\"please give a Character to remove : \")\n",
    "remove_char(s1,s2)"
   ]
  },
  {
   "cell_type": "markdown",
   "id": "b5064b8d",
   "metadata": {},
   "source": [
    "## Q.2. Python Program to count occurrence of characters in string"
   ]
  },
  {
   "cell_type": "code",
   "execution_count": 18,
   "id": "f6c9b7d6",
   "metadata": {},
   "outputs": [
    {
     "name": "stdout",
     "output_type": "stream",
     "text": [
      "Please enter String : qeuescol\n",
      "Please enter a Character : e\n",
      "Occurences of e is: 2\n"
     ]
    }
   ],
   "source": [
    "string = input(\"Please enter String : \")\n",
    "char = input(\"Please enter a Character : \")\n",
    "count = 0\n",
    "\n",
    "for i in range(len(string)):\n",
    "    if string[i] == char:\n",
    "        count += 1\n",
    "print(\"Occurences of\",char,\"is:\", count)"
   ]
  },
  {
   "cell_type": "markdown",
   "id": "8d0662de",
   "metadata": {},
   "source": [
    "## Q.3. Anagram Program\n",
    "### Two strings can be called Anagram if the same character with the same occurrence, present in both string."
   ]
  },
  {
   "cell_type": "code",
   "execution_count": 19,
   "id": "fe2e350f",
   "metadata": {},
   "outputs": [
    {
     "name": "stdout",
     "output_type": "stream",
     "text": [
      "Enter string1: python\n",
      "Enter string2: onpyth\n",
      "Anagram\n"
     ]
    }
   ],
   "source": [
    "def anagramCheck(str1, str2):\n",
    "    if (sorted(str1) == sorted(str2)):\n",
    "        return True\n",
    "    else:\n",
    "        return False\n",
    "str1 = input(\"Enter string1: \")\n",
    "str2 = input(\"Enter string2: \")\n",
    "\n",
    "if anagramCheck(str1, str2):\n",
    "    print(\"Anagram\")\n",
    "else:\n",
    "    print(\"Not an Anagram\")"
   ]
  },
  {
   "cell_type": "markdown",
   "id": "20e16d9e",
   "metadata": {},
   "source": [
    "## Q.4. Palindrome program of String"
   ]
  },
  {
   "cell_type": "code",
   "execution_count": 20,
   "id": "59fe6f58",
   "metadata": {},
   "outputs": [
    {
     "name": "stdout",
     "output_type": "stream",
     "text": [
      "Please give a String : abcba\n",
      "Given String is a Palindrome\n"
     ]
    }
   ],
   "source": [
    "string = input(\"Please give a String : \")\n",
    "if(string == string[:: - 1]):\n",
    "   print(\"Given String is a Palindrome\")\n",
    "else:\n",
    "   print(\"Given String is not a Palindrome\") "
   ]
  },
  {
   "cell_type": "markdown",
   "id": "b488b9c9",
   "metadata": {},
   "source": [
    "## Q.5. Replace the string space with given character "
   ]
  },
  {
   "cell_type": "code",
   "execution_count": 22,
   "id": "d4b03509",
   "metadata": {},
   "outputs": [
    {
     "name": "stdout",
     "output_type": "stream",
     "text": [
      "Enter a String : python sfun\n",
      "Enter a Character : i\n",
      "String after removing space with t =  pythonisfun\n"
     ]
    }
   ],
   "source": [
    "string = input(\"Enter a String : \")\n",
    "result = ''\n",
    "ch = input(\"Enter a Character : \")\n",
    "for i in string: \n",
    "        if i == ' ':\n",
    "            i = ch\n",
    "        result += i\n",
    "print(\"String after removing space with t = \",result)"
   ]
  },
  {
   "cell_type": "markdown",
   "id": "0016ff24",
   "metadata": {},
   "source": [
    "## Q.6. Print highest frequency Character in String "
   ]
  },
  {
   "cell_type": "code",
   "execution_count": 29,
   "id": "68bf0635",
   "metadata": {},
   "outputs": [
    {
     "name": "stdout",
     "output_type": "stream",
     "text": [
      "Please Enter a string: aaabbccs\n",
      "a : 3 "
     ]
    }
   ],
   "source": [
    "string = input(\"Please Enter a string: \")\n",
    "freq_dict = {}\n",
    "\n",
    "for char in string:\n",
    "    if char in freq_dict:\n",
    "        freq_dict[char] += 1\n",
    "    else:\n",
    "        freq_dict[char] = 1\n",
    "max_freq = max(freq_dict.values())\n",
    "\n",
    "for char in freq_dict:\n",
    "    if freq_dict[char] == max_freq:\n",
    "        print(char,\":\",max_freq, end=' ')"
   ]
  },
  {
   "cell_type": "markdown",
   "id": "9a22d236",
   "metadata": {},
   "source": [
    "## Q.7. Remove Repeated Character from String"
   ]
  },
  {
   "cell_type": "code",
   "execution_count": 32,
   "id": "8c8b9d15",
   "metadata": {},
   "outputs": [
    {
     "name": "stdout",
     "output_type": "stream",
     "text": [
      "Enter string: hello\n",
      "helo\n"
     ]
    }
   ],
   "source": [
    "def remove_duplicates(s):\n",
    "    unique_chars = []\n",
    "    for char in s:\n",
    "        if char not in unique_chars:\n",
    "            unique_chars.append(char)\n",
    "    return \"\".join(unique_chars)\n",
    "string = input(\"Enter string: \")\n",
    "print(remove_duplicates(string))"
   ]
  },
  {
   "cell_type": "markdown",
   "id": "0de3f1b4",
   "metadata": {},
   "source": [
    "# Array\n",
    "------------"
   ]
  },
  {
   "cell_type": "markdown",
   "id": "053f7e86",
   "metadata": {},
   "source": [
    "## Q.1. Find missing number in array"
   ]
  },
  {
   "cell_type": "code",
   "execution_count": 34,
   "id": "deebcbac",
   "metadata": {},
   "outputs": [
    {
     "name": "stdout",
     "output_type": "stream",
     "text": [
      "Enter size of array: 3\n",
      "Enter element of array: 1\n",
      "Enter element of array: 2\n",
      "3\n"
     ]
    }
   ],
   "source": [
    "arr = []\n",
    "n = int(input(\"Enter size of array: \"))\n",
    "for x in range(n-1):\n",
    "    x = int(input(\"Enter element of array: \"))\n",
    "    arr.append(x)\n",
    "    \n",
    "expected_sum = (n*(n+1))/2\n",
    "real_sum = 0\n",
    "\n",
    "for i in range(n-1):\n",
    "    real_sum = real_sum + arr[i]\n",
    "print(int(expected_sum - real_sum))"
   ]
  },
  {
   "cell_type": "markdown",
   "id": "6eac218b",
   "metadata": {},
   "source": [
    "## Q.2. Find all Pairs Whose Sum is Equal to Given number"
   ]
  },
  {
   "cell_type": "code",
   "execution_count": 35,
   "id": "94d2acaf",
   "metadata": {},
   "outputs": [
    {
     "name": "stdout",
     "output_type": "stream",
     "text": [
      "All pairs are:  [(2, 10), (3, 9), (4, 8), (5, 7)]\n"
     ]
    }
   ],
   "source": [
    "def find_pairs(arr, target):\n",
    "    pairs = []\n",
    "    for i in range(len(arr)):\n",
    "        for j in range(i+1, len(arr)):\n",
    "            if arr[i]+arr[j] == target:\n",
    "                pairs.append((arr[i], arr[j]))\n",
    "    return pairs\n",
    "\n",
    "arr = [1,2,3,4,5,6,7,8,9,10]\n",
    "target = 12\n",
    "result = find_pairs(arr, target)\n",
    "print(\"All pairs are: \", result)"
   ]
  },
  {
   "cell_type": "markdown",
   "id": "2e5911e3",
   "metadata": {},
   "source": [
    "## Q.3. Insert an element at a given location of an array "
   ]
  },
  {
   "cell_type": "code",
   "execution_count": 39,
   "id": "ae022af9",
   "metadata": {},
   "outputs": [
    {
     "name": "stdout",
     "output_type": "stream",
     "text": [
      "Enter a number to insert in array : 1\n",
      "Enter a index to insert value : 4\n",
      "Array after inserting 1 = [1, 2, 3, 4, 1, 5]\n"
     ]
    }
   ],
   "source": [
    "arr = [1, 2, 3, 4, 5]\n",
    "num=int(input(\"Enter a number to insert in array : \"))\n",
    "index=int(input(\"Enter a index to insert value : \"))\n",
    "if index >= len(arr):\n",
    "    print(\"please enter index smaller than\",len(arr))\n",
    "else:\n",
    "    arr.insert(index, num) \n",
    "    #arr.remove(num) to remove\n",
    "    #arr.pop(2) to delete using index\n",
    "print(\"Array after inserting\",num,\"=\",arr)"
   ]
  },
  {
   "cell_type": "markdown",
   "id": "bb918200",
   "metadata": {},
   "source": [
    "## Q.4. Left rotation of an array"
   ]
  },
  {
   "cell_type": "code",
   "execution_count": 49,
   "id": "636a95f2",
   "metadata": {},
   "outputs": [
    {
     "name": "stdout",
     "output_type": "stream",
     "text": [
      "After two left rotaion : [3, 4, 5, 1, 2]\n"
     ]
    }
   ],
   "source": [
    "arr = [1, 2, 3, 4, 5]\n",
    "arr.append(arr.pop(0)) #[2, 3, 4, 5, 1]\n",
    "arr.append(arr.pop(0)) #[3, 4, 5, 1, 2]\n",
    "\n",
    "# arr = arr[2:] + arr[:2] <= Same results\n",
    "print(\"After two left rotaion :\",arr)"
   ]
  },
  {
   "cell_type": "markdown",
   "id": "41c852ea",
   "metadata": {},
   "source": [
    "## Q.5. Find Highest Frequency Element in Array "
   ]
  },
  {
   "cell_type": "code",
   "execution_count": 50,
   "id": "a46800a8",
   "metadata": {},
   "outputs": [
    {
     "name": "stdout",
     "output_type": "stream",
     "text": [
      "Highest frequency element: 5\n"
     ]
    }
   ],
   "source": [
    "arr = [1, 2, 3, 4, 5, 6, 5, 4, 5, 1, 2, 3, 4, 5, 6, 5, 4, 5]\n",
    "freq_dict = {}\n",
    "for element in arr:\n",
    "    if element in freq_dict:\n",
    "        freq_dict[element] += 1\n",
    "    else:\n",
    "        freq_dict[element] = 1\n",
    "\n",
    "highest_freq_element = max(freq_dict, key=freq_dict.get)\n",
    "print(\"Highest frequency element:\", highest_freq_element)"
   ]
  }
 ],
 "metadata": {
  "kernelspec": {
   "display_name": "Python 3 (ipykernel)",
   "language": "python",
   "name": "python3"
  },
  "language_info": {
   "codemirror_mode": {
    "name": "ipython",
    "version": 3
   },
   "file_extension": ".py",
   "mimetype": "text/x-python",
   "name": "python",
   "nbconvert_exporter": "python",
   "pygments_lexer": "ipython3",
   "version": "3.10.12"
  }
 },
 "nbformat": 4,
 "nbformat_minor": 5
}
